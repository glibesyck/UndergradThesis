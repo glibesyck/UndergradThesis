{
 "cells": [
  {
   "cell_type": "markdown",
   "metadata": {},
   "source": [
    "We will now define RS (regular spiking) excitatory neuron and FS (fast spiking) inhibitory neuron. These 2 types are enough to model part of the cortex in terms of dynamical system.\n",
    "\n",
    "These parituclar parameters were taken from Izhikevich's [paper](https://www.pnas.org/doi/10.1073/pnas.0712231105) (2008)."
   ]
  },
  {
   "cell_type": "code",
   "execution_count": null,
   "metadata": {},
   "outputs": [],
   "source": [
    "import numpy as np\n",
    "from scipy.integrate import ode #solving DE\n",
    "import plotly.subplots as sp #visualizations\n",
    "import plotly.graph_objs as go #visualizations\n",
    "\n",
    "#LaTeX workaround\n",
    "import plotly\n",
    "from IPython.display import display, HTML\n",
    "plotly.offline.init_notebook_mode()\n",
    "display(HTML(\n",
    "    '<script type=\"text/javascript\" async src=\"https://cdnjs.cloudflare.com/ajax/libs/mathjax/2.7.1/MathJax.js?config=TeX-MML-AM_SVG\"></script>'\n",
    "))\n",
    "\n",
    "from timeit import timeit"
   ]
  },
  {
   "cell_type": "markdown",
   "metadata": {},
   "source": [
    "## Consts"
   ]
  },
  {
   "cell_type": "code",
   "execution_count": null,
   "metadata": {},
   "outputs": [],
   "source": [
    "V_PEAK_PARAM = \"v_peak\"\n",
    "A_PARAM = \"a\"\n",
    "B_PARAM = \"b\"\n",
    "c_PARAM = \"c\"\n",
    "D_PARAM = \"d\"\n",
    "\n",
    "C_PARAM = \"C\"\n",
    "K_PARAM = \"k\"\n",
    "V_R_PARAM = \"v_r\"\n",
    "V_T_PARAM = \"v_t\"\n",
    "\n",
    "TAU_AMPA = \"tau_ampa\"\n",
    "TAU_NMDA = \"tau_nmda\"\n",
    "TAU_GABAA = \"tau_gabaa\"\n",
    "TAU_GABAB = \"tau_gabab\""
   ]
  },
  {
   "cell_type": "markdown",
   "metadata": {},
   "source": [
    "# Utils"
   ]
  },
  {
   "cell_type": "code",
   "execution_count": null,
   "metadata": {},
   "outputs": [],
   "source": [
    "def plot_membrane_voltage(v: np.array, T: np.array):\n",
    "    \"\"\"Plots membrane potential progression over the time.\"\"\"\n",
    "    fig = go.Figure()\n",
    "\n",
    "    trace = go.Scatter(x=T, y=v, mode='lines', name=r\"$\\text{Membrane voltage} \\: (\\text{in} \\: mV)$\")\n",
    "    fig.add_trace(trace)\n",
    "\n",
    "    fig.update_layout(title='Membrane voltage',\n",
    "                      xaxis_title=r'$\\text{Time} \\: (\\text{in} \\: ms)$',\n",
    "                      yaxis_title=r'$mV$')\n",
    "    \n",
    "    return trace, fig"
   ]
  },
  {
   "cell_type": "code",
   "execution_count": null,
   "metadata": {},
   "outputs": [],
   "source": [
    "def plot_all_membrane_voltage(v: np.array, T: np.array):\n",
    "    \"\"\"Plots all membrane potential progression over the time.\"\"\"\n",
    "    fig = go.Figure()\n",
    "\n",
    "    for i in range(v.shape[1]):\n",
    "        trace = go.Scatter(x=T, y=v[:, i], mode='lines', name=r\"$\\text{Membrane voltage for neuron }\" f\"{i}\" r\"\\: (\\text{in} \\: mV)$\")\n",
    "        fig.add_trace(trace)\n",
    "\n",
    "    fig.update_layout(title='Membrane voltage',\n",
    "                      xaxis_title=r'$\\text{Time} \\: (\\text{in} \\: ms)$',\n",
    "                      yaxis_title=r'$mV$')\n",
    "    \n",
    "    return trace, fig"
   ]
  },
  {
   "cell_type": "code",
   "execution_count": null,
   "metadata": {},
   "outputs": [],
   "source": [
    "def firing_rates(firings: np.ndarray, T: np.ndarray):\n",
    "    \"\"\"Plots all firing times as raster plot.\"\"\"\n",
    "\n",
    "    fig = go.Figure()\n",
    "\n",
    "    firing_indices = np.argwhere(firings == 1)\n",
    "\n",
    "    trace = go.Scatter(x=firing_indices[:, 0], y=firing_indices[:, 1],\n",
    "                           mode='markers', marker=dict(color='black', size=4))\n",
    "\n",
    "    fig.add_trace(trace)\n",
    "\n",
    "    fig.update_layout(\n",
    "    xaxis_title='Time Step',\n",
    "    yaxis_title='Neuron',\n",
    "    title='Raster Plot',\n",
    "    yaxis=dict(tickmode='array', tickvals=list(range(firings.shape[1])), ticktext=list(range(1, firings.shape[1] + 1)))\n",
    "    )\n",
    "\n",
    "\n",
    "    return trace, fig"
   ]
  },
  {
   "cell_type": "code",
   "execution_count": null,
   "metadata": {},
   "outputs": [],
   "source": [
    "def plot_membrane_voltage_against_recovery(voltage: np.array, recovery_variable: np.array):\n",
    "    \"\"\"Plots membrane voltage against recovery variable progression over the time forming dynamical plot.\n",
    "    x-axis - recovery variable (u)\n",
    "    y-axis - membrane voltage (v)\"\"\"\n",
    "    fig = go.Figure()\n",
    "\n",
    "    trace = go.Scatter(x=recovery_variable, y=voltage, mode='lines', name='Membrane voltage (in mV) against recovery variable (u)')\n",
    "\n",
    "    fig.add_trace(go.Scatter(x=recovery_variable, y=voltage, mode='lines', name='Membrane voltage (in mV) against potassium recovery variable (u)'))\n",
    "\n",
    "    fig.update_layout(title='Membrane voltage against recovery variable',\n",
    "                      yaxis_title='mV')\n",
    "    \n",
    "    return trace, fig"
   ]
  },
  {
   "cell_type": "markdown",
   "metadata": {},
   "source": [
    "# Excitatory RS Neuron"
   ]
  },
  {
   "cell_type": "code",
   "execution_count": null,
   "metadata": {},
   "outputs": [],
   "source": [
    "C_RS = 100 #membrane capacitance\n",
    "a_RS = 0.01 #recovery time constant\n",
    "b_RS = 5 #determines whether u is an amplifying (b < 0) or resonant (b > 0)\n",
    "c_RS = -60 #voltage reset value\n",
    "d_RS = 400 #total amount of outward minus inward currents activated during the spike and affecting the after-spike behavior\n",
    "\n",
    "v_r_RS = - 60 #resting membrane potential\n",
    "v_t_RS = - 50 #instantaneous threshold potential\n",
    "v_peak_RS = 50 #spike cutoff value\n",
    "\n",
    "k_RS = 3\n",
    "\n",
    "v_RS = v_r_RS #membrane potential\n",
    "u_RS = 0 #recovery current\n",
    "\n",
    "start_state = np.array([v_RS, u_RS])\n",
    "\n",
    "params_RS = {A_PARAM: a_RS, \n",
    "          B_PARAM: b_RS, \n",
    "          c_PARAM: c_RS, \n",
    "          D_PARAM: d_RS, \n",
    "          C_PARAM: C_RS, \n",
    "          K_PARAM: k_RS, \n",
    "          V_PEAK_PARAM: v_peak_RS, \n",
    "          V_R_PARAM: v_r_RS, \n",
    "          V_T_PARAM: v_t_RS}"
   ]
  },
  {
   "cell_type": "code",
   "execution_count": null,
   "metadata": {},
   "outputs": [],
   "source": [
    "t_min = 0\n",
    "t_max = 1000\n",
    "sim_steps = 10000\n",
    "\n",
    "T = np.linspace(t_min, t_max, sim_steps)\n",
    "delta_T = t_max/sim_steps"
   ]
  },
  {
   "cell_type": "code",
   "execution_count": null,
   "metadata": {},
   "outputs": [],
   "source": [
    "def simulation_run(res_state: np.ndarray, I, T: np.ndarray, delta_T: float, params: dict):\n",
    "    v_curr, u_curr = res_state\n",
    "    v = [v_curr]\n",
    "    u = [u_curr]\n",
    "    for i in range(len(T)):\n",
    "        if v_curr >= params[V_PEAK_PARAM]:\n",
    "            v_new = params[c_PARAM]\n",
    "            u_new = u_curr + params[D_PARAM]\n",
    "        else:\n",
    "            v_new = v_curr + delta_T*(params[K_PARAM]*(v_curr - params[V_R_PARAM])*(v_curr - params[V_T_PARAM]) - u_curr + I(T[i]))/params[C_PARAM]\n",
    "            u_new = u_curr + delta_T*params[A_PARAM]*(params[B_PARAM]*(v_curr - params[V_R_PARAM]) - u_curr)\n",
    "        \n",
    "        v_curr = v_new\n",
    "        u_curr = u_new\n",
    "        v.append(v_curr)\n",
    "        u.append(u_curr)\n",
    "    \n",
    "    return v, u"
   ]
  },
  {
   "cell_type": "markdown",
   "metadata": {},
   "source": [
    "## DC Current"
   ]
  },
  {
   "cell_type": "code",
   "execution_count": null,
   "metadata": {},
   "outputs": [],
   "source": [
    "def I_dc(t):\n",
    "    if t > 100.0:\n",
    "        return 125.0\n",
    "    return 0.0"
   ]
  },
  {
   "cell_type": "code",
   "execution_count": null,
   "metadata": {},
   "outputs": [],
   "source": [
    "v, u = simulation_run(start_state, I_dc, T, delta_T, params_RS)"
   ]
  },
  {
   "cell_type": "code",
   "execution_count": null,
   "metadata": {},
   "outputs": [],
   "source": [
    "_, fig = plot_membrane_voltage(v, T)\n",
    "fig.show()"
   ]
  },
  {
   "cell_type": "code",
   "execution_count": null,
   "metadata": {},
   "outputs": [],
   "source": [
    "_, fig = plot_membrane_voltage_against_recovery(v, u)\n",
    "fig.show()"
   ]
  },
  {
   "cell_type": "markdown",
   "metadata": {},
   "source": [
    "# Inhibitory FS Interneuron"
   ]
  },
  {
   "cell_type": "code",
   "execution_count": null,
   "metadata": {},
   "outputs": [],
   "source": [
    "C_FS = 20 #membrane capacitance\n",
    "a_FS = 0.15 #recovery time constant\n",
    "b_FS = 8\n",
    "c_FS = -55 #voltage reset value\n",
    "d_FS = 200 #total amount of outward minus inward currents activated during the spike and affecting the after-spike behavior\n",
    "\n",
    "v_r_FS = - 55 #resting membrane potential\n",
    "v_t_FS = - 40 #instantaneous threshold potential\n",
    "v_peak_FS = 25 #spike cutoff value\n",
    "\n",
    "k_FS = 1\n",
    "\n",
    "v_FS = v_r_FS #membrane potential\n",
    "u_FS = 0 #recovery current\n",
    "\n",
    "start_state = np.array([v_FS, u_FS])\n",
    "\n",
    "params_FS = {A_PARAM: a_FS, \n",
    "          B_PARAM: b_FS, \n",
    "          c_PARAM: c_FS, \n",
    "          D_PARAM: d_FS, \n",
    "          C_PARAM: C_FS, \n",
    "          K_PARAM: k_FS, \n",
    "          V_PEAK_PARAM: v_peak_FS, \n",
    "          V_R_PARAM: v_r_FS, \n",
    "          V_T_PARAM: v_t_FS}"
   ]
  },
  {
   "cell_type": "markdown",
   "metadata": {},
   "source": [
    "Wow! Awesome threshold around 70(pA). Neuron fires at constant rate if I_DC value is greater then 73(pA)."
   ]
  },
  {
   "cell_type": "code",
   "execution_count": null,
   "metadata": {},
   "outputs": [],
   "source": [
    "v, u = simulation_run(start_state, I_dc, T, delta_T, params_FS)"
   ]
  },
  {
   "cell_type": "code",
   "execution_count": null,
   "metadata": {},
   "outputs": [],
   "source": [
    "_, fig = plot_membrane_voltage(v, T)\n",
    "fig.show()"
   ]
  },
  {
   "cell_type": "code",
   "execution_count": null,
   "metadata": {},
   "outputs": [],
   "source": [
    "_, fig = plot_membrane_voltage_against_recovery(v, u)\n",
    "fig.show()"
   ]
  },
  {
   "cell_type": "markdown",
   "metadata": {},
   "source": [
    "# Synapse Model"
   ]
  },
  {
   "cell_type": "code",
   "execution_count": null,
   "metadata": {},
   "outputs": [],
   "source": [
    "Ne = 2\n",
    "Ni = 2"
   ]
  },
  {
   "cell_type": "code",
   "execution_count": null,
   "metadata": {},
   "outputs": [],
   "source": [
    "tau_ampa = 5\n",
    "tau_nmda = 100\n",
    "tau_gabaa = 6\n",
    "tau_gabab = 150\n",
    "\n",
    "sigma = 14.4\n",
    "e_to_e = 5\n",
    "e_to_i = 10\n",
    "i_to_e = 0\n",
    "i_to_i = 10"
   ]
  },
  {
   "cell_type": "code",
   "execution_count": null,
   "metadata": {},
   "outputs": [],
   "source": [
    "start_state = np.column_stack((np.append(v_RS*np.ones(Ne), v_FS*np.ones(Ni)), np.append(u_RS*np.ones(Ne), u_FS*np.ones(Ni)))) #matrix (Ne + Ni) x 2 - (v, u) for each neuron\n",
    "\n",
    "params_network = {A_PARAM: np.append(a_RS*np.ones(Ne), a_FS*np.ones(Ni)), \n",
    "          B_PARAM: np.append(b_RS*np.ones(Ne), b_FS*np.ones(Ni)), \n",
    "          c_PARAM: np.append(c_RS*np.ones(Ne), c_FS*np.ones(Ni)), \n",
    "          D_PARAM: np.append(d_RS*np.ones(Ne), d_FS*np.ones(Ni)), \n",
    "          C_PARAM: np.append(C_RS*np.ones(Ne), C_FS*np.ones(Ni)), \n",
    "          K_PARAM: np.append(k_RS*np.ones(Ne), k_FS*np.ones(Ni)),\n",
    "          V_PEAK_PARAM: np.append(v_peak_RS*np.ones(Ne), v_peak_FS*np.ones(Ni)), \n",
    "          V_R_PARAM: np.append(v_r_RS*np.ones(Ne), v_r_FS*np.ones(Ni)), \n",
    "          V_T_PARAM: np.append(v_t_RS*np.ones(Ne), v_t_FS*np.ones(Ni)),\n",
    "          TAU_AMPA: tau_ampa*np.ones((Ne + Ni, Ne + Ni)),\n",
    "          TAU_NMDA: tau_nmda*np.ones((Ne + Ni, Ne + Ni)),\n",
    "          TAU_GABAA: tau_gabaa*np.ones((Ne + Ni, Ne + Ni)),\n",
    "          TAU_GABAB: tau_gabab*np.ones((Ne + Ni, Ne + Ni))}"
   ]
  },
  {
   "cell_type": "code",
   "execution_count": null,
   "metadata": {},
   "outputs": [],
   "source": [
    "def run_network_sim(Ne: int, Ni: int, T: np.ndarray, delta_T: float, start_state: np.ndarray, weights: np.ndarray, currents: np.ndarray, params: dict):\n",
    "    \"\"\"\n",
    "    Inputs:\n",
    "    - Ne (int): number of excitatory neurons.\n",
    "    - Ni (int): number of inhibitory neurons.\n",
    "    - T (np.ndarray of float(s)): array of simlutation time points.\n",
    "    - delta_T (float): integration constant (time step value).\n",
    "    - start_state (np.ndarray of float(s))): start values of (v, u) for each neuron in network.\n",
    "    - weights (np.ndarray of float(s)): synaptic weights (i, j) -> weight from i to j.\n",
    "    - currents (np.ndarray of float(s) or function): injected current to neuron i at time t.\n",
    "    - params (dict): parameters of neurons DST.\n",
    "\n",
    "    \"\"\"\n",
    "    firings = np.array(np.zeros((len(T) + 1, Ne + Ni)))\n",
    "    states = np.array(np.zeros((len(T) + 1, Ne + Ni, 2)))\n",
    "    conductances = np.array(np.zeros((len(T) + 1, Ne + Ni, Ne + Ni, 4))) #4-dimensional because it depends on synaptic weights unfortunately:( will see what we can do with this!\n",
    "    states[0, :, :] = start_state\n",
    "    synaptic_input = np.array(np.zeros((len(T) + 1, Ne + Ni)))\n",
    "    # times = {\n",
    "    #     \"who_fires\": 0,\n",
    "    #     \"masks\": 0,\n",
    "    #     \"synaptic_input\": 0,\n",
    "    #     \"firing_states\": 0,\n",
    "    #     \"non-firing_states\": 0,\n",
    "    #     \"firing_conductance\": 0,\n",
    "    #     \"non-firing_conductance\": 0\n",
    "    # }\n",
    "\n",
    "    for i in range(1, len(T)):\n",
    "\n",
    "        ## DECIDE WHO FIRES\n",
    "        # start = timeit()\n",
    "\n",
    "        firing_neurons_idx = np.where(states[i - 1, :, 0] >= params[V_PEAK_PARAM])[0] #who is on fire? 🥵\n",
    "\n",
    "        # end = timeit()\n",
    "        # times[\"who_fires\"] += end - start\n",
    "        # start = timeit()\n",
    "\n",
    "        exc_firing_neurons_idx = firing_neurons_idx[firing_neurons_idx < Ne]\n",
    "        inh_firing_neurons_idx = firing_neurons_idx[firing_neurons_idx >= Ne]\n",
    "\n",
    "        mask = np.zeros(Ne + Ni, dtype=bool)\n",
    "        mask[firing_neurons_idx] = True\n",
    "\n",
    "        exc_mask = np.zeros(Ne + Ni, dtype=bool)\n",
    "        exc_mask[exc_firing_neurons_idx] = True\n",
    "\n",
    "        exc_inv_mask = np.ones(Ne, dtype=bool)\n",
    "        exc_inv_mask[exc_firing_neurons_idx] = False\n",
    "        exc_inv_mask = np.append(exc_inv_mask, np.zeros(Ni, dtype = bool))\n",
    "\n",
    "        inh_mask = np.zeros(Ne + Ni, dtype=bool)\n",
    "        inh_mask[inh_firing_neurons_idx] = True\n",
    "\n",
    "        inh_inv_mask = np.ones(Ne + Ni, dtype=bool)\n",
    "        inh_inv_mask[inh_firing_neurons_idx] = False\n",
    "        inh_inv_mask[np.arange(Ne)] = False\n",
    "\n",
    "        # end = timeit()\n",
    "        # times[\"masks\"] += end - start\n",
    "        # start = timeit()\n",
    "\n",
    "\n",
    "        ## UPDATE OF SYNAPTIC INPUT\n",
    "        synaptic_input[i, :] = np.multiply(np.sum(conductances[i-1, :, :, 0], axis = 0), states[i-1, :, 0] - 0 * np.ones((Ne + Ni))) \\\n",
    "        + np.multiply(np.multiply(np.sum(conductances[i-1, :, :, 1], axis = 0), states[i-1, :, 0] - 0 * np.ones((Ne + Ni))), np.divide(np.divide(np.multiply(states[i-1, :, 0] + 80 * np.ones((Ne + Ni)), states[i-1, :, 0] + 80 * np.ones((Ne + Ni))), np.multiply(60 * np.ones((Ne + Ni)), 60 * np.ones((Ne + Ni)))), np.ones(Ne + Ni) + np.divide(np.multiply(states[i-1, :, 0] + 80 * np.ones((Ne + Ni)), states[i-1, :, 0] + 80 * np.ones((Ne + Ni))), np.multiply(60 * np.ones((Ne + Ni)), 60 * np.ones((Ne + Ni)))))) \\\n",
    "        + np.multiply(np.sum(conductances[i-1, :, :, 2], axis = 0), states[i-1, :, 0] + 70 * np.ones((Ne + Ni))) \\\n",
    "        + np.multiply(np.sum(conductances[i-1, :, :, 3], axis = 0), states[i-1, :, 0] + 90 * np.ones((Ne + Ni)))\n",
    "        # AMPA + NMDA + GABA A + GABA B\n",
    "\n",
    "        # end = timeit()\n",
    "        # times[\"synaptic_input\"] += end - start\n",
    "        # start = timeit()\n",
    "\n",
    "        ## UPDATE OF STATES (U, V)\n",
    "\n",
    "        ## FOR FIRING NEURONS\n",
    "\n",
    "        states[i, mask, 0] = params[c_PARAM][mask] #update of v for firing neurons\n",
    "        states[i, mask, 1] = states[i - 1, mask, 1] + params[D_PARAM][mask] #update of u for firing neurons\n",
    "        firings[i, mask] = 1 #save information who is on fire for raster plot\n",
    "\n",
    "        # end = timeit()\n",
    "        # times[\"firing_states\"] += end - start\n",
    "        # start = timeit()\n",
    "\n",
    "\n",
    "        ## FOR NON-FIRING NEURONS\n",
    "\n",
    "        states[i, ~mask, 0] = states[i - 1, ~mask, 0] + delta_T*np.divide((np.multiply(params[K_PARAM][~mask], np.multiply((states[i - 1, ~mask, 0] - params[V_R_PARAM][~mask]), (states[i - 1, ~mask, 0] - params[V_T_PARAM][~mask])))) - states[i - 1, ~mask, 1] + currents[i, ~mask] - synaptic_input[i, ~mask], params[C_PARAM][~mask])  #update v for non-firing neurons: please observe presence of external input as well as internal (synaptic) one\n",
    "        states[i, ~mask, 1] = states[i - 1, ~mask, 1] + delta_T*np.multiply(params[A_PARAM][~mask], (np.multiply(params[B_PARAM][~mask], (states[i - 1, ~mask, 0] - params[V_R_PARAM][~mask]))) - states[i - 1, ~mask, 1]) #update u for non-firing neurons\n",
    "\n",
    "        # end = timeit()\n",
    "        # times[\"non-firing_states\"] += end - start\n",
    "        # start = timeit()\n",
    "\n",
    "        ## UPDATE OF CONDUCTANCES AFTER UPDATE OF (V, U) ##\n",
    "\n",
    "        ## FOR FIRING NEURONS\n",
    "\n",
    "        #for excitatory neurons only AMPA & NMDA should change\n",
    "        conductances[i, exc_mask, :, 0] = conductances[i - 1, exc_mask, :, 0] + weights[exc_mask, :]\n",
    "        conductances[i, exc_mask, :, 1] = conductances[i - 1, exc_mask, :, 1] + weights[exc_mask, :]\n",
    "\n",
    "        #for inhibitory neurons only GABA (A & B) should change \n",
    "        conductances[i, inh_mask, :, 2] = conductances[i - 1, inh_mask, :, 2] + weights[inh_mask, :]\n",
    "        conductances[i, inh_mask, :, 3] = conductances[i - 1, inh_mask, :, 3] + weights[inh_mask, :]\n",
    "\n",
    "        # end = timeit()\n",
    "        # times[\"firing_conductance\"] += end - start\n",
    "        # start = timeit()\n",
    "\n",
    "        ## FOR NON-FIRING NEURONS\n",
    "\n",
    "        #for excitatory neurons only AMPA & NMDA should change\n",
    "        conductances[i, exc_inv_mask, :, 0] = conductances[i - 1, exc_inv_mask, :, 0] - delta_T*np.divide(conductances[i - 1, exc_inv_mask, :, 0], params[TAU_AMPA][exc_inv_mask])\n",
    "        conductances[i, exc_inv_mask, :, 1] = conductances[i - 1, exc_inv_mask, :, 1] - delta_T*np.divide(conductances[i - 1, exc_inv_mask, :, 1], params[TAU_NMDA][exc_inv_mask])\n",
    "        #for inhibitory neurons only GABA (A & B) should change \n",
    "        conductances[i, inh_inv_mask, :, 2] = conductances[i - 1, inh_inv_mask, :, 2] - delta_T*np.divide(conductances[i - 1, inh_inv_mask, :, 2], params[TAU_GABAA][inh_inv_mask])\n",
    "        conductances[i, inh_inv_mask, :, 3] = conductances[i - 1, inh_inv_mask, :, 3] - delta_T*np.divide(conductances[i - 1, inh_inv_mask, :, 3], params[TAU_GABAB][inh_inv_mask])\n",
    "\n",
    "        # end = timeit()\n",
    "        # times[\"non-firing_conductance\"] += end - start\n",
    "\n",
    "        # print(times)\n",
    "    \n",
    "    return states, firings, conductances"
   ]
  },
  {
   "cell_type": "code",
   "execution_count": null,
   "metadata": {},
   "outputs": [],
   "source": [
    "weights = np.array(np.zeros((Ne + Ni, Ne + Ni))) #matrix (Ne + Ni) x (Ne + Ni) (i, j: i -> j), thus sum by column for input of j\n",
    "        \n",
    "weights[0, 2] = 5\n",
    "weights[1, 3] = 5\n",
    "weights[2, 1] = 10\n",
    "weights[3, 0] = 10\n",
    "\n",
    "currents = np.array(np.zeros((len(T), Ne + Ni)))\n",
    "currents[:, 0] = 1250\n",
    "currents[:, 1] = 1200"
   ]
  },
  {
   "cell_type": "code",
   "execution_count": null,
   "metadata": {},
   "outputs": [],
   "source": [
    "states, firings, conductances = run_network_sim(Ne, Ni, T, delta_T, start_state, weights, currents, params_network)"
   ]
  },
  {
   "cell_type": "code",
   "execution_count": null,
   "metadata": {},
   "outputs": [],
   "source": [
    "_, fig = plot_all_membrane_voltage(states[:, :, 0], T)\n",
    "fig.show()"
   ]
  },
  {
   "cell_type": "code",
   "execution_count": null,
   "metadata": {},
   "outputs": [],
   "source": [
    "_, fig = firing_rates(firings, T)\n",
    "fig.show()"
   ]
  },
  {
   "cell_type": "code",
   "execution_count": null,
   "metadata": {},
   "outputs": [],
   "source": [
    "np.sum(firings, axis = 0)"
   ]
  },
  {
   "cell_type": "markdown",
   "metadata": {},
   "source": [
    "# Cano-Colino et al. Modeling"
   ]
  },
  {
   "cell_type": "markdown",
   "metadata": {},
   "source": [
    "For 2 neurons."
   ]
  },
  {
   "cell_type": "code",
   "execution_count": null,
   "metadata": {},
   "outputs": [],
   "source": [
    "weights = np.array(np.zeros((Ne + Ni, Ne + Ni))) #matrix (Ne + Ni) x (Ne + Ni) (i, j: i -> j), thus sum by column for input of j\n",
    "\n",
    "for i in range(Ne):\n",
    "    for j in range(Ne):\n",
    "        if i != j:\n",
    "            angle_i = i / Ne * 360\n",
    "            angle_j = j / Ne * 360\n",
    "            weights[i, j] = e_to_e * np.exp(-(min(max(angle_i, angle_j) - min(angle_i, angle_j), 360 - (max(angle_i, angle_j) - min(angle_i, angle_j))))**2/sigma**2)\n",
    "\n",
    "for i in range(Ne):\n",
    "    for j in range(Ni):\n",
    "        angle_i = i / Ne * 360\n",
    "        angle_j = j / Ni * 360\n",
    "        weights[i, Ne + j] = e_to_i * np.exp(-(min(max(angle_i, angle_j) - min(angle_i, angle_j), 360 - (max(angle_i, angle_j) - min(angle_i, angle_j))))**2/sigma**2)\n",
    "\n",
    "for i in range(Ni):\n",
    "    for j in range(Ne):\n",
    "        angle_i = i / Ni * 360\n",
    "        angle_j = j / Ne * 360\n",
    "        weights[Ne + i, j] = i_to_e * np.exp(-(min(max(angle_i, angle_j) - min(angle_i, angle_j), 360 - (max(angle_i, angle_j) - min(angle_i, angle_j))))**2/sigma**2)\n",
    "\n",
    "for i in range(Ni):\n",
    "    for j in range(Ni):\n",
    "        if i != j:\n",
    "            angle_i = i / Ni * 360\n",
    "            angle_j = j / Ni * 360\n",
    "            weights[Ne + i, Ne + j] = i_to_i * np.exp(-(min(max(angle_i, angle_j) - min(angle_i, angle_j), 360 - (max(angle_i, angle_j) - min(angle_i, angle_j))))**2/sigma**2)\n",
    "\n",
    "currents = np.array(np.zeros((len(T), Ne + Ni)))\n",
    "currents[:, 0] = 500\n",
    "currents[:, 1] = 400"
   ]
  },
  {
   "cell_type": "code",
   "execution_count": null,
   "metadata": {},
   "outputs": [],
   "source": [
    "states, firings, conductances = run_network_sim(Ne, Ni, T, delta_T, start_state, weights, currents, params_network)"
   ]
  },
  {
   "cell_type": "code",
   "execution_count": null,
   "metadata": {},
   "outputs": [],
   "source": [
    "_, fig = plot_all_membrane_voltage(states[:, :, 0], T)\n",
    "fig.show()"
   ]
  },
  {
   "cell_type": "code",
   "execution_count": null,
   "metadata": {},
   "outputs": [],
   "source": [
    "_, fig = firing_rates(firings, T)\n",
    "fig.show()"
   ]
  },
  {
   "cell_type": "code",
   "execution_count": null,
   "metadata": {},
   "outputs": [],
   "source": [
    "np.sum(firings, axis = 0)"
   ]
  },
  {
   "cell_type": "markdown",
   "metadata": {},
   "source": [
    "For 100 excitatory and 20 inhibitory neurons."
   ]
  },
  {
   "cell_type": "code",
   "execution_count": null,
   "metadata": {},
   "outputs": [],
   "source": [
    "Ne = 100\n",
    "Ni = 20"
   ]
  },
  {
   "cell_type": "code",
   "execution_count": null,
   "metadata": {},
   "outputs": [],
   "source": [
    "start_state = np.column_stack((np.append(v_RS*np.ones(Ne), v_FS*np.ones(Ni)), np.append(u_RS*np.ones(Ne), u_FS*np.ones(Ni)))) #matrix (Ne + Ni) x 2 - (v, u) for each neuron\n",
    "\n",
    "params_network = {A_PARAM: np.append(a_RS*np.ones(Ne), a_FS*np.ones(Ni)), \n",
    "          B_PARAM: np.append(b_RS*np.ones(Ne), b_FS*np.ones(Ni)), \n",
    "          c_PARAM: np.append(c_RS*np.ones(Ne), c_FS*np.ones(Ni)), \n",
    "          D_PARAM: np.append(d_RS*np.ones(Ne), d_FS*np.ones(Ni)), \n",
    "          C_PARAM: np.append(C_RS*np.ones(Ne), C_FS*np.ones(Ni)), \n",
    "          K_PARAM: np.append(k_RS*np.ones(Ne), k_FS*np.ones(Ni)),\n",
    "          V_PEAK_PARAM: np.append(v_peak_RS*np.ones(Ne), v_peak_FS*np.ones(Ni)), \n",
    "          V_R_PARAM: np.append(v_r_RS*np.ones(Ne), v_r_FS*np.ones(Ni)), \n",
    "          V_T_PARAM: np.append(v_t_RS*np.ones(Ne), v_t_FS*np.ones(Ni)),\n",
    "          TAU_AMPA: tau_ampa*np.ones((Ne + Ni, Ne + Ni)),\n",
    "          TAU_NMDA: tau_nmda*np.ones((Ne + Ni, Ne + Ni)),\n",
    "          TAU_GABAA: tau_gabaa*np.ones((Ne + Ni, Ne + Ni)),\n",
    "          TAU_GABAB: tau_gabab*np.ones((Ne + Ni, Ne + Ni))}"
   ]
  },
  {
   "cell_type": "code",
   "execution_count": null,
   "metadata": {},
   "outputs": [],
   "source": [
    "weights = np.array(np.zeros((Ne + Ni, Ne + Ni))) #matrix (Ne + Ni) x (Ne + Ni) (i, j: i -> j), thus sum by column for input of j\n",
    "\n",
    "for i in range(Ne):\n",
    "    for j in range(Ne):\n",
    "        if i != j:\n",
    "            angle_i = i / Ne * 360\n",
    "            angle_j = j / Ne * 360\n",
    "            weights[i, j] = e_to_e * np.exp(-(min(max(angle_i, angle_j) - min(angle_i, angle_j), 360 - (max(angle_i, angle_j) - min(angle_i, angle_j))))**2/sigma**2)\n",
    "\n",
    "for i in range(Ne):\n",
    "    for j in range(Ni):\n",
    "        angle_i = i / Ne * 360\n",
    "        angle_j = j / Ni * 360\n",
    "        weights[i, Ne + j] = e_to_i * np.exp(-(min(max(angle_i, angle_j) - min(angle_i, angle_j), 360 - (max(angle_i, angle_j) - min(angle_i, angle_j))))**2/sigma**2)\n",
    "\n",
    "for i in range(Ni):\n",
    "    for j in range(Ne):\n",
    "        angle_i = i / Ni * 360\n",
    "        angle_j = j / Ne * 360\n",
    "        weights[Ne + i, j] = i_to_e * np.exp(-(min(max(angle_i, angle_j) - min(angle_i, angle_j), 360 - (max(angle_i, angle_j) - min(angle_i, angle_j))))**2/sigma**2)\n",
    "\n",
    "for i in range(Ni):\n",
    "    for j in range(Ni):\n",
    "        if i != j:\n",
    "            angle_i = i / Ni * 360\n",
    "            angle_j = j / Ni * 360\n",
    "            weights[Ne + i, Ne + j] = i_to_i * np.exp(-(min(max(angle_i, angle_j) - min(angle_i, angle_j), 360 - (max(angle_i, angle_j) - min(angle_i, angle_j))))**2/sigma**2)\n",
    "\n",
    "currents = np.array(np.zeros((len(T), Ne + Ni)))\n",
    "currents[:, 0] = 500\n",
    "currents[:, 1] = 400"
   ]
  },
  {
   "cell_type": "code",
   "execution_count": null,
   "metadata": {},
   "outputs": [],
   "source": [
    "states, firings, conductances = run_network_sim(Ne, Ni, T, delta_T, start_state, weights, currents, params_network)"
   ]
  },
  {
   "cell_type": "code",
   "execution_count": null,
   "metadata": {},
   "outputs": [],
   "source": [
    "_, fig = plot_all_membrane_voltage(states[:, :, 0], T)\n",
    "fig.show()"
   ]
  },
  {
   "cell_type": "code",
   "execution_count": null,
   "metadata": {},
   "outputs": [],
   "source": [
    "_, fig = firing_rates(firings, T)\n",
    "fig.show()"
   ]
  },
  {
   "cell_type": "code",
   "execution_count": null,
   "metadata": {},
   "outputs": [],
   "source": [
    "np.sum(firings, axis = 0)"
   ]
  }
 ],
 "metadata": {
  "kernelspec": {
   "display_name": "Python 3",
   "language": "python",
   "name": "python3"
  },
  "language_info": {
   "codemirror_mode": {
    "name": "ipython",
    "version": 3
   },
   "file_extension": ".py",
   "mimetype": "text/x-python",
   "name": "python",
   "nbconvert_exporter": "python",
   "pygments_lexer": "ipython3",
   "version": "3.8.5"
  }
 },
 "nbformat": 4,
 "nbformat_minor": 2
}
